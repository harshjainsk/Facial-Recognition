{
 "cells": [
  {
   "cell_type": "markdown",
   "id": "9bd1b6bd",
   "metadata": {},
   "source": [
    "# 1. Setup"
   ]
  },
  {
   "cell_type": "markdown",
   "id": "99636040",
   "metadata": {},
   "source": [
    "### Import dependecies"
   ]
  },
  {
   "cell_type": "code",
   "execution_count": 2,
   "id": "4b412297",
   "metadata": {},
   "outputs": [],
   "source": [
    "import cv2\n",
    "import os\n",
    "import numpy as np\n",
    "import random\n",
    "import matplotlib.pyplot as plt"
   ]
  },
  {
   "cell_type": "code",
   "execution_count": 4,
   "id": "15be7ec7",
   "metadata": {},
   "outputs": [],
   "source": [
    "# import Tensorflow functional API\n",
    "\n",
    "from tensorflow.keras.models import Model\n",
    "from tensorflow.keras.layers import Layer, Conv2D, Dense, MaxPooling2D, Input, Flatten\n",
    "import tensorflow as tf"
   ]
  },
  {
   "cell_type": "markdown",
   "id": "94aa67aa",
   "metadata": {},
   "source": [
    "### Set GPU growth"
   ]
  },
  {
   "cell_type": "code",
   "execution_count": 7,
   "id": "9f22d4eb",
   "metadata": {},
   "outputs": [],
   "source": [
    "# Avoid out of memory error by setting GPU memory consumption growth\n",
    "gpus = tf.config.experimental.list_physical_devices('GPU')\n",
    "for gpu in gpus:\n",
    "    tf.config.experimental.set_memory_growth(gpu, True)"
   ]
  },
  {
   "cell_type": "markdown",
   "id": "3c26ab53",
   "metadata": {},
   "source": [
    "### Create folder structure "
   ]
  },
  {
   "cell_type": "code",
   "execution_count": 8,
   "id": "57780d84",
   "metadata": {},
   "outputs": [],
   "source": [
    "POSITIVE_PATH = os.path.join('data', 'positive')\n",
    "NEGATIVE_PATH = os.path.join('data', 'negative')\n",
    "ANCHOR_PATH = os.path.join('data', 'anchor')\n",
    "\n",
    "# creating directories\n",
    "\n",
    "os.makedirs(POSITIVE_PATH)\n",
    "os.makedirs(NEGATIVE_PATH)\n",
    "os.makedirs(ANCHOR_PATH)"
   ]
  },
  {
   "cell_type": "code",
   "execution_count": null,
   "id": "44954cdb",
   "metadata": {},
   "outputs": [],
   "source": []
  }
 ],
 "metadata": {
  "kernelspec": {
   "display_name": "Face-Recognition-venv",
   "language": "python",
   "name": "face-recognition-venv"
  },
  "language_info": {
   "codemirror_mode": {
    "name": "ipython",
    "version": 3
   },
   "file_extension": ".py",
   "mimetype": "text/x-python",
   "name": "python",
   "nbconvert_exporter": "python",
   "pygments_lexer": "ipython3",
   "version": "3.9.5"
  }
 },
 "nbformat": 4,
 "nbformat_minor": 5
}
